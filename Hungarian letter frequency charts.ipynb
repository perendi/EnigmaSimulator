{
 "cells": [
  {
   "cell_type": "code",
   "execution_count": 10,
   "id": "actual-novelty",
   "metadata": {},
   "outputs": [
    {
     "data": {
      "text/plain": [
       "Text(0.5, 1.0, 'Letter frequency in the Hungarian language')"
      ]
     },
     "execution_count": 10,
     "metadata": {},
     "output_type": "execute_result"
    },
    {
     "data": {
      "image/png": "[encoded data removed]",
      "text/plain": [
       "<Figure size 1152x576 with 1 Axes>"
      ]
     },
     "metadata": {
      "needs_background": "light"
     },
     "output_type": "display_data"
    }
   ],
   "source": [
    "# Issues: number of characters in the text != number of letters in the string\n",
    "\n",
    "import re\n",
    "import matplotlib.pyplot as plt\n",
    "\n",
    "ALPHABET_HUN = [ \"A\", \"Á\", \"B\", \"C\", \"Cs\", \"D\", \"Dz\", \"Dzs\", \"E\", \"É\", \"F\", \"G\", \"Gy\",\n",
    "            \"H\", \"I\", \"Í\", \"J\", \"K\", \"L\", \"Ly\", \"M\", \"N\", \"Ny\", \"O\", \"Ó\", \"Ö\", \"Ő\", \"P\", \"Q\", \"R\", \"S\", \"Sz\", \"T\", \"Ty\",\n",
    "            \"U\", \"Ú\", \"Ü\", \"Ű\", \"V\", \"W\", \"X\", \"Y\", \"Z\", \"Zs\" ]\n",
    "letterFreqs = [None] * len(ALPHABET_HUN)\n",
    "\n",
    "TEXT = \"Elsőnek Marszell tűnt el, akit kisasszonynak szólított, mióta csak ismerte, de akire azért sosem úgy gondolt, mint egy francia lányra, aki tizenkét esztendőn át a mellette levő szobában lakott, és őt nevelte. Marszell több volt, mint egy nevelőnő, fizetett alkalmazott; jelenléte olykor még azt is el tudta feledtetni, hogy voltaképpen idegen, és nem pótolhatja igazán azt, akit a kislány még kétéves korában elveszített: az édesanyát. Marszell mindig megértette még azt is, amit Gina nem is fogalmazott meg érthetően, amire csak utalt, vagy amiről csak hebegni tudott; voltak pillanatok, amelyekben majdnem olyan közel érezte magához, mint az apját. Ha Marszellnak olykor honvágya támadt, vagy a kislány valami panaszára azzal válaszolt, hogy Gina csak örüljön, hiszen itt van mellette az édesapja, aki mindenkinél jobban szereti, bezzeg ő, Marszell, milyen régen elvesztette már a szüleit, s abból kell élnie, amit valaha tőlük tanult, az anyanyelvéből, mindig hozzátette azt is, hogy persze ha már így kellett lennie, milyen jó, hogy Gináék házában otthonra talált, s ha nem is ment férjhez, olyan neki itt Vitayéknál, mintha családja volna, legalábbis gyereke. Marszell olyan valaki volt, akihez az ember, ha távol volt hazulról, úgy visszavágyott, mint egy igazi szülőhöz, és Gina tudta, nem azért olyan jó hozzá, mert megfizetik érte, hanem mert szereti.\"\n",
    "TEXT2 = \"Ha nem kapaszkodik bele minden lehetőségbe, csak hogy otthon maradhasson, Gina maga is elismerte volna, hogy Marszell utódja nem lehet Mimó néni, hogy egyszerűen nem alkalmas rá, hiszen akárhogy is szerette a nagynénjét, azért sokat mulatott rajta, s olykor azt érezte, ő a maga tizennégy évével valahogy felnőttebb nála, aki pedig özvegyasszony, és elmúlt már negyven is. Ám mihelyt kiderült, hogy még tőle is el kell majd válnia, a tudat, hogy őt is elveszíti, valahogy megnövelte, megfényesítette az alakját. Hirtelen elfelejtette, mennyit szórakozott azon az iparkodáson, amellyel Mimó néni tovatűnt ifjúságát próbálta konzerválni, az igényen, hogy minden társaságban vele foglalkozzanak, a riadt érdeklődésen, amellyel minden új divatcikktől vagy kozmetikai szertől csodát remélt. Elfelejtette azt is, milyen hamar rájöttek Marszellal, hogy azok a bizonyos híres teák – Mimó néni minden csütörtök délután adott táncos teái –, amelyeken a tábornok semmi könyörgésre nem volt hajlandó részt venni, voltaképpen nem azért rendeződnek, amivel nagynénje indokolja, hogy alkalmat akar teremteni kis anyátlan unokahúgának, hadd szokjék hozzá a társasághoz, hadd tanuljon meg viselkedni, hadd gyakorolhassa a táncot is; Mimó néni maga akart szórakozni, megmutatni új ruháit, gyakran változó hajviseletét, táncolni kívánt Mimó néni és lehetőleg férjhez is menni, ezért volt a teáin zömében olyan vendég, aki Ginának apja, nagyapja lehetett volna, s csak alig-alig egypár fiatal. De ha igaza is volt Marszellnak, amikor azt mondta, egy kislány talán mégsem teákon és tánc közben tanulja meg azt az alapvető valamit, amire szüksége lesz felnőttkorában, és nyilván abban is, hogy felháborodott, mikor Mimó nénit zokogva találták amiatt, hogy a fodrász rosszul vágta le a haját, egyvalamiben azért mégse volt igaza. Az élethez kétségtelenül kell bizonyos emberi méltóság és fegyelmezettség, és az is, hogy az ember normálisan reagáljon arra, ami éri, mindig tudva, mi igazán baj, és mi csak bosszúság, főleg háborús időkben, mikor tíz- meg tízezrek halnak meg világszerte, és igazán keveset számít egy sután levágott hajtincs; ám mégis Mimó néni híres teái egyikén ismerte meg Gina Kuncz Ferit, élte át, hogy a hadnagy már-már az udvariatlanság határáig nem látott meg senkit őkívüle, s kapta váratlan, kicsit talán még időnek előtti ajándékként is az egyszerre riadt, egyszerre túl boldog felismerést, hogy szerelmes Kuncz Feribe, és szeretne majd egyszer a felesége lenni.\"\n",
    "\n",
    "def countLetters(alphabet, text):\n",
    "    total = 0\n",
    "    for a in alphabet:\n",
    "        total += text.count(a.upper())\n",
    "        text = re.sub(a.upper(),'',text)\n",
    "    return total\n",
    "        \n",
    "\n",
    "def countFreq(letter, text, letterCount):\n",
    "    global value, textLength\n",
    "    letter = letter.upper()\n",
    "    \n",
    "    count = text.count(letter)\n",
    "    \n",
    "    return (count/letterCount)*100\n",
    "\n",
    "def calcFreq(alphabet, text):\n",
    "    alphabet = sorted(alphabet, key=len, reverse=True)\n",
    "    text = re.sub(\"[^a-zA-ZáÁéÉíÍóÓöÖőŐúÚüŰ]+\", \"\", text).upper()\n",
    "    letterCount = countLetters(alphabet, text)\n",
    "    \n",
    "    for a in alphabet:\n",
    "        letterFreqs[ALPHABET_HUN.index(a)] = countFreq(a, text, letterCount)\n",
    "        text = re.sub(a.upper(),'',text)\n",
    "    return letterFreqs\n",
    "    \n",
    "    \n",
    "calcFreq(ALPHABET_HUN, TEXT2)\n",
    "# print(letterFreqs, sum(letterFreqs))\n",
    "\n",
    "plt.figure(figsize=(16,8))\n",
    "plt.bar(ALPHABET_HUN, letterFreqs)\n",
    "plt.ylabel('Percentage')\n",
    "plt.title('Letter frequency in the Hungarian language')\n",
    "        "
   ]
  },
  {
   "cell_type": "code",
   "execution_count": null,
   "id": "offshore-civilization",
   "metadata": {},
   "outputs": [],
   "source": []
  },
  {
   "cell_type": "code",
   "execution_count": null,
   "id": "loose-simon",
   "metadata": {},
   "outputs": [],
   "source": []
  }
 ],
 "metadata": {
  "kernelspec": {
   "display_name": "Python 3",
   "language": "python",
   "name": "python3"
  },
  "language_info": {
   "codemirror_mode": {
    "name": "ipython",
    "version": 3
   },
   "file_extension": ".py",
   "mimetype": "text/x-python",
   "name": "python",
   "nbconvert_exporter": "python",
   "pygments_lexer": "ipython3",
   "version": "3.7.7"
  }
 },
 "nbformat": 4,
 "nbformat_minor": 5
}
